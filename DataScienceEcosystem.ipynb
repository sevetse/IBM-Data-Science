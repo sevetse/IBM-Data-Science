{
 "cells": [
  {
   "cell_type": "markdown",
   "id": "18f0d51d-ff69-425c-ba44-439e31613b8e",
   "metadata": {},
   "source": [
    "# Data Science Tools and Ecosystem"
   ]
  },
  {
   "cell_type": "markdown",
   "id": "89107f3b-5c13-4b75-b6e0-85d179761383",
   "metadata": {},
   "source": [
    "In this notebook, Data Science Tools and Ecosystem are summarized."
   ]
  },
  {
   "cell_type": "markdown",
   "id": "ed6ed33d-d074-4717-a5b6-01de0f23c992",
   "metadata": {},
   "source": [
    "**Objectives**  \n",
    "-List popular languages for Data Science  \n",
    "-List commonly used libraries by Data Scientist  \n",
    "-List Data Science Tools  \n",
    "-Peform basic arithmetic calculations  "
   ]
  },
  {
   "cell_type": "markdown",
   "id": "75d92e2c-07d9-42ac-8a4c-a959eadca74e",
   "metadata": {},
   "source": [
    "Some of the popular languages that Data Scientists use are:\n",
    "1. Python\n",
    "2. R\n",
    "3. Julia\n",
    "4. C++"
   ]
  },
  {
   "cell_type": "markdown",
   "id": "98e0e1b2-a130-4180-8530-9edc25bcbb87",
   "metadata": {},
   "source": [
    "Some of the commonly used libraries used by Data Scientists include:\n",
    "1. ggplot\n",
    "2. stringr\n",
    "3. dplyr\n",
    "4. caret\n",
    "5. numpy\n",
    "6. pandas"
   ]
  },
  {
   "cell_type": "markdown",
   "id": "dee9d6ed-46e0-418b-9e2c-fcceaca3c7e1",
   "metadata": {},
   "source": [
    "| Data Science Tools |\n",
    "| ----- |\n",
    "| Anaconda |\n",
    "| GitHub |\n",
    "| RStudio |"
   ]
  },
  {
   "cell_type": "markdown",
   "id": "8c611741-8960-4bfe-96d2-4434bd3622ef",
   "metadata": {},
   "source": [
    "Below are a few examples of evaluating arithmetic expressions in Python."
   ]
  },
  {
   "cell_type": "code",
   "execution_count": 5,
   "id": "ab9ad37b-96b6-4a4e-91be-55709ac9a109",
   "metadata": {},
   "outputs": [
    {
     "data": {
      "text/plain": [
       "17"
      ]
     },
     "execution_count": 5,
     "metadata": {},
     "output_type": "execute_result"
    }
   ],
   "source": [
    "# This is a simple arithmetic expression to multiply then add integers.\n",
    "(3*4)+5"
   ]
  },
  {
   "cell_type": "code",
   "execution_count": 6,
   "id": "2f80c687-b31a-43b1-8714-d81ed0b5ed98",
   "metadata": {},
   "outputs": [
    {
     "data": {
      "text/plain": [
       "3.3333333333333335"
      ]
     },
     "execution_count": 6,
     "metadata": {},
     "output_type": "execute_result"
    }
   ],
   "source": [
    "# This will convert 200 minutes to hours by dividing by 60.\n",
    "200/60"
   ]
  },
  {
   "cell_type": "markdown",
   "id": "b6317fe2-52d8-4815-b1df-9ebf13e676af",
   "metadata": {},
   "source": [
    "## Author\n",
    "Ana I. S. Esteves"
   ]
  }
 ],
 "metadata": {
  "kernelspec": {
   "display_name": "Python 3 (ipykernel)",
   "language": "python",
   "name": "python3"
  },
  "language_info": {
   "codemirror_mode": {
    "name": "ipython",
    "version": 3
   },
   "file_extension": ".py",
   "mimetype": "text/x-python",
   "name": "python",
   "nbconvert_exporter": "python",
   "pygments_lexer": "ipython3",
   "version": "3.10.14"
  }
 },
 "nbformat": 4,
 "nbformat_minor": 5
}
